{
 "cells": [
  {
   "cell_type": "code",
   "execution_count": 39,
   "metadata": {
    "scrolled": false
   },
   "outputs": [
    {
     "data": {
      "text/plain": [
       "array([[5.151, 3.535, 1.414, 0.202],\n",
       "       [4.949, 3.03 , 1.414, 0.202],\n",
       "       [4.747, 3.232, 1.313, 0.202],\n",
       "       ...,\n",
       "       [6.63 , 3.06 , 5.304, 2.04 ],\n",
       "       [6.324, 3.468, 5.508, 2.346],\n",
       "       [6.018, 3.06 , 5.202, 1.836]])"
      ]
     },
     "execution_count": 39,
     "metadata": {},
     "output_type": "execute_result"
    }
   ],
   "source": [
    "#Required imports for the algorithm\n",
    "import numpy as np\n",
    "import pandas as pd\n",
    "import matplotlib.pyplot as plt\n",
    "\n",
    "data = pd.read_csv('Task2 - dataset - dog_breeds.csv')\n",
    "data = data.to_numpy()\n",
    "data"
   ]
  },
  {
   "cell_type": "code",
   "execution_count": 42,
   "metadata": {},
   "outputs": [
    {
     "data": {
      "text/plain": [
       "array([5.151, 3.535, 1.414, 0.202])"
      ]
     },
     "execution_count": 42,
     "metadata": {},
     "output_type": "execute_result"
    },
    {
     "data": {
      "image/png": "[encoded data removed]",
      "text/plain": [
       "<Figure size 432x288 with 1 Axes>"
      ]
     },
     "metadata": {
      "needs_background": "light"
     },
     "output_type": "display_data"
    }
   ],
   "source": [
    "\n",
    "plt.scatter(data[0,:], data[1,:])\n",
    "# centroid = np.zeros(3)\n",
    "# centroid[0] = dataset[1,1]\n",
    "# centroid\n",
    "# arr = np.array([1,2,3])\n",
    "# arrr = np.array([1,2,3])\n",
    "# wow = np.vstack((arr,arrr))\n",
    "# wow\n",
    "data[0]"
   ]
  },
  {
   "cell_type": "code",
   "execution_count": 92,
   "metadata": {},
   "outputs": [
    {
     "data": {
      "text/plain": [
       "array([16.260394, 19.345674, 17.72265 ])"
      ]
     },
     "execution_count": 92,
     "metadata": {},
     "output_type": "execute_result"
    }
   ],
   "source": [
    "def compute_euclidean_distance(data_row,centroids):\n",
    "    distance = np.zeros(len(centroids))\n",
    "    for i in range(len(centroids)):\n",
    "        Euclidean = 0\n",
    "        for j in range(len(data_row)):\n",
    "            Euclidean = Euclidean + (data_row[j] - centroids[i])**2\n",
    "            distance[i] = Euclidean\n",
    "    return distance\n",
    "\n",
    "he = compute_euclidean_distance(data[0],initialise_centroids(data,3))\n",
    "\n",
    "he"
   ]
  },
  {
   "cell_type": "code",
   "execution_count": 60,
   "metadata": {
    "scrolled": false
   },
   "outputs": [
    {
     "data": {
      "text/plain": [
       "array([3.434, 2.448, 2.828])"
      ]
     },
     "execution_count": 60,
     "metadata": {},
     "output_type": "execute_result"
    }
   ],
   "source": [
    "def initialise_centroids(data, k):\n",
    "    centroids = np.zeros(k)\n",
    "    rep_x = []\n",
    "    i = 0\n",
    "    while i < k:\n",
    "        rand_x = np.random.randint(300)\n",
    "        if rand_x not in rep_x:\n",
    "            centroids[i] = data[rand_x,1]\n",
    "            rep_x.append(rand_x)\n",
    "        else:\n",
    "            i = i - 1\n",
    "        i = i + 1\n",
    "    return centroids\n",
    "initialise_centroids(data,3)\n"
   ]
  },
  {
   "cell_type": "code",
   "execution_count": 131,
   "metadata": {
    "scrolled": true
   },
   "outputs": [
    {
     "name": "stdout",
     "output_type": "stream",
     "text": [
      "[3.434 3.03  2.929]\n",
      "{0: [array([7.07 , 3.232, 4.747, 1.414]), array([6.464, 3.232, 4.545, 1.515]), array([6.969, 3.131, 4.949, 1.515]), array([5.555, 2.323, 4.04 , 1.313]), array([6.565, 2.828, 4.646, 1.515]), array([5.757, 2.828, 4.545, 1.313]), array([6.363, 3.333, 4.747, 1.616]), array([6.666, 2.929, 4.646, 1.313]), array([5.252, 2.727, 3.939, 1.414]), array([5.959, 3.03 , 4.242, 1.515]), array([6.06 , 2.222, 4.04 , 1.01 ]), array([6.161, 2.929, 4.747, 1.414]), array([5.656, 2.929, 3.636, 1.313]), array([6.767, 3.131, 4.444, 1.414]), array([5.656, 3.03 , 4.545, 1.515]), array([5.858, 2.727, 4.141, 1.01 ]), array([6.262, 2.222, 4.545, 1.515]), array([5.656, 2.525, 3.939, 1.111]), array([5.959, 3.232, 4.848, 1.818]), array([6.161, 2.828, 4.04 , 1.313]), array([6.363, 2.525, 4.949, 1.515]), array([6.161, 2.828, 4.747, 1.212]), array([6.464, 2.929, 4.343, 1.313]), array([6.666, 3.03 , 4.444, 1.414]), array([6.868, 2.828, 4.848, 1.414]), array([6.767, 3.03 , 5.05 , 1.717]), array([6.06 , 2.929, 4.545, 1.515]), array([5.757, 2.626, 3.535, 1.01 ]), array([5.555, 2.424, 3.838, 1.111]), array([5.858, 2.727, 3.939, 1.212]), array([6.06 , 2.727, 5.151, 1.616]), array([5.454, 3.03 , 4.545, 1.515]), array([6.06 , 3.434, 4.545, 1.616]), array([6.767, 3.131, 4.747, 1.515]), array([6.363, 2.323, 4.444, 1.313]), array([5.656, 3.03 , 4.141, 1.313]), array([5.555, 2.525, 4.04 , 1.313]), array([5.555, 2.626, 4.444, 1.212]), array([6.161, 3.03 , 4.646, 1.414]), array([5.858, 2.626, 4.04 , 1.212]), array([5.656, 2.727, 4.242, 1.313]), array([5.757, 3.03 , 4.242, 1.212]), array([5.757, 2.929, 4.242, 1.313]), array([6.262, 2.929, 4.343, 1.313]), array([5.757, 2.828, 4.141, 1.313]), array([6.363, 3.333, 6.06 , 2.525]), array([5.858, 2.727, 5.151, 1.919]), array([7.171, 3.03 , 5.959, 2.121]), array([6.363, 2.929, 5.656, 1.818]), array([6.565, 3.03 , 5.858, 2.222]), array([7.676, 3.03 , 6.666, 2.121]), array([4.949, 2.525, 4.545, 1.717]), array([7.373, 2.929, 6.363, 1.818]), array([6.767, 2.525, 5.858, 1.818]), array([7.272, 3.636, 6.161, 2.525]), array([6.565, 3.232, 5.151, 2.02 ]), array([6.464, 2.727, 5.353, 1.919]), array([6.868, 3.03 , 5.555, 2.121]), array([5.757, 2.525, 5.05 , 2.02 ]), array([5.858, 2.828, 5.151, 2.424]), array([6.464, 3.232, 5.353, 2.323]), array([6.565, 3.03 , 5.555, 1.818]), array([7.777, 3.838, 6.767, 2.222]), array([7.777, 2.626, 6.969, 2.323]), array([6.06 , 2.222, 5.05 , 1.515]), array([6.969, 3.232, 5.757, 2.323]), array([5.656, 2.828, 4.949, 2.02 ]), array([7.777, 2.828, 6.767, 2.02 ]), array([6.363, 2.727, 4.949, 1.818]), array([6.767, 3.333, 5.757, 2.121]), array([7.272, 3.232, 6.06 , 1.818]), array([6.262, 2.828, 4.848, 1.818]), array([6.161, 3.03 , 4.949, 1.818]), array([6.464, 2.828, 5.656, 2.121]), array([7.272, 3.03 , 5.858, 1.616]), array([7.474, 2.828, 6.161, 1.919]), array([7.979, 3.838, 6.464, 2.02 ]), array([6.464, 2.828, 5.656, 2.222]), array([6.363, 2.828, 5.151, 1.515]), array([6.161, 2.626, 5.656, 1.414]), array([7.777, 3.03 , 6.161, 2.323]), array([6.363, 3.434, 5.656, 2.424]), array([6.464, 3.131, 5.555, 1.818]), array([6.06 , 3.03 , 4.848, 1.818]), array([6.969, 3.131, 5.454, 2.121]), array([6.767, 3.131, 5.656, 2.424]), array([6.969, 3.131, 5.151, 2.323]), array([5.858, 2.727, 5.151, 1.919]), array([6.868, 3.232, 5.959, 2.323]), array([6.767, 3.333, 5.757, 2.525]), array([6.767, 3.03 , 5.252, 2.323]), array([6.363, 2.525, 5.05 , 1.919]), array([6.565, 3.03 , 5.252, 2.02 ]), array([6.262, 3.434, 5.454, 2.323]), array([5.959, 3.03 , 5.151, 1.818]), array([7.14 , 3.264, 4.794, 1.428]), array([6.528, 3.264, 4.59 , 1.53 ]), array([7.038, 3.162, 4.998, 1.53 ]), array([5.61 , 2.346, 4.08 , 1.326]), array([6.63 , 2.856, 4.692, 1.53 ]), array([5.814, 2.856, 4.59 , 1.326]), array([6.426, 3.366, 4.794, 1.632]), array([6.732, 2.958, 4.692, 1.326]), array([5.304, 2.754, 3.978, 1.428]), array([6.018, 3.06 , 4.284, 1.53 ]), array([6.12 , 2.244, 4.08 , 1.02 ]), array([6.222, 2.958, 4.794, 1.428]), array([5.712, 2.958, 3.672, 1.326]), array([6.834, 3.162, 4.488, 1.428]), array([5.712, 3.06 , 4.59 , 1.53 ]), array([5.916, 2.754, 4.182, 1.02 ]), array([6.324, 2.244, 4.59 , 1.53 ]), array([5.712, 2.55 , 3.978, 1.122]), array([6.018, 3.264, 4.896, 1.836]), array([6.222, 2.856, 4.08 , 1.326]), array([6.426, 2.55 , 4.998, 1.53 ]), array([6.222, 2.856, 4.794, 1.224]), array([6.528, 2.958, 4.386, 1.326]), array([6.732, 3.06 , 4.488, 1.428]), array([6.936, 2.856, 4.896, 1.428]), array([6.834, 3.06 , 5.1  , 1.734]), array([6.12 , 2.958, 4.59 , 1.53 ]), array([5.814, 2.652, 3.57 , 1.02 ]), array([5.61 , 2.448, 3.876, 1.122]), array([5.916, 2.754, 3.978, 1.224]), array([6.12 , 2.754, 5.202, 1.632]), array([5.508, 3.06 , 4.59 , 1.53 ]), array([6.12 , 3.468, 4.59 , 1.632]), array([6.834, 3.162, 4.794, 1.53 ]), array([6.426, 2.346, 4.488, 1.326]), array([5.712, 3.06 , 4.182, 1.326]), array([5.61 , 2.55 , 4.08 , 1.326]), array([5.61 , 2.652, 4.488, 1.224]), array([6.222, 3.06 , 4.692, 1.428]), array([5.916, 2.652, 4.08 , 1.224]), array([5.712, 2.754, 4.284, 1.326]), array([5.814, 3.06 , 4.284, 1.224]), array([5.814, 2.958, 4.284, 1.326]), array([6.324, 2.958, 4.386, 1.326]), array([5.814, 2.856, 4.182, 1.326]), array([6.426, 3.366, 6.12 , 2.55 ]), array([5.916, 2.754, 5.202, 1.938]), array([7.242, 3.06 , 6.018, 2.142]), array([6.426, 2.958, 5.712, 1.836]), array([6.63 , 3.06 , 5.916, 2.244]), array([7.752, 3.06 , 6.732, 2.142]), array([4.998, 2.55 , 4.59 , 1.734]), array([7.446, 2.958, 6.426, 1.836]), array([6.834, 2.55 , 5.916, 1.836]), array([7.344, 3.672, 6.222, 2.55 ]), array([6.63 , 3.264, 5.202, 2.04 ]), array([6.528, 2.754, 5.406, 1.938]), array([6.936, 3.06 , 5.61 , 2.142]), array([5.814, 2.55 , 5.1  , 2.04 ]), array([5.916, 2.856, 5.202, 2.448]), array([6.528, 3.264, 5.406, 2.346]), array([6.63 , 3.06 , 5.61 , 1.836]), array([7.854, 3.876, 6.834, 2.244]), array([7.854, 2.652, 7.038, 2.346]), array([6.12 , 2.244, 5.1  , 1.53 ]), array([7.038, 3.264, 5.814, 2.346]), array([5.712, 2.856, 4.998, 2.04 ]), array([7.854, 2.856, 6.834, 2.04 ]), array([6.426, 2.754, 4.998, 1.836]), array([6.834, 3.366, 5.814, 2.142]), array([7.344, 3.264, 6.12 , 1.836]), array([6.324, 2.856, 4.896, 1.836]), array([6.222, 3.06 , 4.998, 1.836]), array([6.528, 2.856, 5.712, 2.142]), array([7.344, 3.06 , 5.916, 1.632]), array([7.548, 2.856, 6.222, 1.938]), array([8.058, 3.876, 6.528, 2.04 ]), array([6.528, 2.856, 5.712, 2.244]), array([6.426, 2.856, 5.202, 1.53 ]), array([6.222, 2.652, 5.712, 1.428]), array([7.854, 3.06 , 6.222, 2.346]), array([6.426, 3.468, 5.712, 2.448]), array([6.528, 3.162, 5.61 , 1.836]), array([6.12 , 3.06 , 4.896, 1.836]), array([7.038, 3.162, 5.508, 2.142]), array([6.834, 3.162, 5.712, 2.448]), array([7.038, 3.162, 5.202, 2.346]), array([5.916, 2.754, 5.202, 1.938]), array([6.936, 3.264, 6.018, 2.346]), array([6.834, 3.366, 5.814, 2.55 ]), array([6.834, 3.06 , 5.304, 2.346]), array([6.426, 2.55 , 5.1  , 1.938]), array([6.63 , 3.06 , 5.304, 2.04 ]), array([6.324, 3.468, 5.508, 2.346]), array([6.018, 3.06 , 5.202, 1.836])], 1: [array([5.757, 4.444, 1.515, 0.404]), array([5.555, 2.424, 3.737, 1.01 ]), array([5.814, 4.488, 1.53 , 0.408]), array([5.61 , 2.448, 3.774, 1.02 ]), array([5.202, 2.55 , 3.06 , 1.122])], 2: [array([5.151, 3.535, 1.414, 0.202]), array([4.949, 3.03 , 1.414, 0.202]), array([4.747, 3.232, 1.313, 0.202]), array([4.646, 3.131, 1.515, 0.202]), array([5.05 , 3.636, 1.414, 0.202]), array([5.454, 3.939, 1.717, 0.404]), array([4.646, 3.434, 1.414, 0.303]), array([5.05 , 3.434, 1.515, 0.202]), array([4.444, 2.929, 1.414, 0.202]), array([4.949, 3.131, 1.515, 0.101]), array([5.454, 3.737, 1.515, 0.202]), array([4.848, 3.434, 1.616, 0.202]), array([4.848, 3.03 , 1.414, 0.101]), array([4.343, 3.03 , 1.111, 0.101]), array([5.858, 4.04 , 1.212, 0.202]), array([5.454, 3.939, 1.313, 0.404]), array([5.151, 3.535, 1.414, 0.303]), array([5.757, 3.838, 1.717, 0.303]), array([5.151, 3.838, 1.515, 0.303]), array([5.454, 3.434, 1.717, 0.202]), array([5.151, 3.737, 1.515, 0.404]), array([4.646, 3.636, 1.01 , 0.202]), array([5.151, 3.333, 1.717, 0.505]), array([4.848, 3.434, 1.919, 0.202]), array([5.05 , 3.03 , 1.616, 0.202]), array([5.05 , 3.434, 1.616, 0.404]), array([5.252, 3.535, 1.515, 0.202]), array([5.252, 3.434, 1.414, 0.202]), array([4.747, 3.232, 1.616, 0.202]), array([4.848, 3.131, 1.616, 0.202]), array([5.454, 3.434, 1.515, 0.404]), array([5.252, 4.141, 1.515, 0.101]), array([5.555, 4.242, 1.414, 0.202]), array([4.949, 3.131, 1.515, 0.202]), array([5.05 , 3.232, 1.212, 0.202]), array([5.555, 3.535, 1.313, 0.202]), array([4.949, 3.636, 1.414, 0.101]), array([4.444, 3.03 , 1.313, 0.202]), array([5.151, 3.434, 1.515, 0.202]), array([5.05 , 3.535, 1.313, 0.303]), array([4.545, 2.323, 1.313, 0.303]), array([4.444, 3.232, 1.313, 0.202]), array([5.05 , 3.535, 1.616, 0.606]), array([5.151, 3.838, 1.919, 0.404]), array([4.848, 3.03 , 1.414, 0.303]), array([5.151, 3.838, 1.616, 0.202]), array([4.646, 3.232, 1.414, 0.202]), array([5.353, 3.737, 1.515, 0.202]), array([5.05 , 3.333, 1.414, 0.202]), array([4.949, 2.424, 3.333, 1.01 ]), array([5.05 , 2.02 , 3.535, 1.01 ]), array([5.05 , 2.323, 3.333, 1.01 ]), array([5.151, 2.525, 3.03 , 1.111]), array([5.202, 3.57 , 1.428, 0.204]), array([4.998, 3.06 , 1.428, 0.204]), array([4.794, 3.264, 1.326, 0.204]), array([4.692, 3.162, 1.53 , 0.204]), array([5.1  , 3.672, 1.428, 0.204]), array([5.508, 3.978, 1.734, 0.408]), array([4.692, 3.468, 1.428, 0.306]), array([5.1  , 3.468, 1.53 , 0.204]), array([4.488, 2.958, 1.428, 0.204]), array([4.998, 3.162, 1.53 , 0.102]), array([5.508, 3.774, 1.53 , 0.204]), array([4.896, 3.468, 1.632, 0.204]), array([4.896, 3.06 , 1.428, 0.102]), array([4.386, 3.06 , 1.122, 0.102]), array([5.916, 4.08 , 1.224, 0.204]), array([5.508, 3.978, 1.326, 0.408]), array([5.202, 3.57 , 1.428, 0.306]), array([5.814, 3.876, 1.734, 0.306]), array([5.202, 3.876, 1.53 , 0.306]), array([5.508, 3.468, 1.734, 0.204]), array([5.202, 3.774, 1.53 , 0.408]), array([4.692, 3.672, 1.02 , 0.204]), array([5.202, 3.366, 1.734, 0.51 ]), array([4.896, 3.468, 1.938, 0.204]), array([5.1  , 3.06 , 1.632, 0.204]), array([5.1  , 3.468, 1.632, 0.408]), array([5.304, 3.57 , 1.53 , 0.204]), array([5.304, 3.468, 1.428, 0.204]), array([4.794, 3.264, 1.632, 0.204]), array([4.896, 3.162, 1.632, 0.204]), array([5.508, 3.468, 1.53 , 0.408]), array([5.304, 4.182, 1.53 , 0.102]), array([5.61 , 4.284, 1.428, 0.204]), array([4.998, 3.162, 1.53 , 0.204]), array([5.1  , 3.264, 1.224, 0.204]), array([5.61 , 3.57 , 1.326, 0.204]), array([4.998, 3.672, 1.428, 0.102]), array([4.488, 3.06 , 1.326, 0.204]), array([5.202, 3.468, 1.53 , 0.204]), array([5.1  , 3.57 , 1.326, 0.306]), array([4.59 , 2.346, 1.326, 0.306]), array([4.488, 3.264, 1.326, 0.204]), array([5.1  , 3.57 , 1.632, 0.612]), array([5.202, 3.876, 1.938, 0.408]), array([4.896, 3.06 , 1.428, 0.306]), array([5.202, 3.876, 1.632, 0.204]), array([4.692, 3.264, 1.428, 0.204]), array([5.406, 3.774, 1.53 , 0.204]), array([5.1  , 3.366, 1.428, 0.204]), array([4.998, 2.448, 3.366, 1.02 ]), array([5.1 , 2.04, 3.57, 1.02]), array([5.1  , 2.346, 3.366, 1.02 ])]}\n"
     ]
    }
   ],
   "source": [
    "def kmeans(dataset, k):\n",
    "    clust = {}\n",
    "    for i in range(k):\n",
    "        clust[i] = [] \n",
    "    cen = initialise_centroids(data,k)\n",
    "    print(cen)\n",
    "    for i in range(len(data)):\n",
    "        distance = compute_euclidean_distance(data[i],cen)\n",
    "        count = 0\n",
    "        tmp = distance[0]\n",
    "        for j in range(1,k):\n",
    "            if tmp > distance[j]:\n",
    "                tmp = distance[j]\n",
    "                count = j\n",
    "        clust[count].append(data[i])\n",
    "    \n",
    "    \n",
    "    \n",
    "    print(clust)\n",
    "kmeans(data,3)\n"
   ]
  },
  {
   "cell_type": "code",
   "execution_count": 127,
   "metadata": {},
   "outputs": [
    {
     "name": "stdout",
     "output_type": "stream",
     "text": [
      "{0: [], 1: [], 2: []}\n",
      "{0: [], 1: [], 2: []}\n",
      "{0: [5, 6], 1: [], 2: []}\n"
     ]
    },
    {
     "data": {
      "text/plain": [
       "array([4.949, 3.03 , 1.414, 0.202])"
      ]
     },
     "execution_count": 127,
     "metadata": {},
     "output_type": "execute_result"
    }
   ],
   "source": [
    "cen = {}\n",
    "for i in range(3):\n",
    "    cen[i] = [] \n",
    "print(cen)\n",
    "\n",
    "print(cen)\n",
    "cen[0].append(5)\n",
    "cen[0].append(6)\n",
    "print(cen)\n",
    "sum(cen[0])/len(cen[0])\n",
    "data[1]"
   ]
  },
  {
   "cell_type": "code",
   "execution_count": 7,
   "metadata": {},
   "outputs": [
    {
     "data": {
      "text/plain": [
       "0"
      ]
     },
     "execution_count": 7,
     "metadata": {},
     "output_type": "execute_result"
    }
   ],
   "source": [
    "rand_y = np.random.randint(4)\n",
    "rand_y"
   ]
  },
  {
   "cell_type": "code",
   "execution_count": 8,
   "metadata": {},
   "outputs": [
    {
     "data": {
      "text/plain": [
       "array([2, 1, 2])"
      ]
     },
     "execution_count": 8,
     "metadata": {},
     "output_type": "execute_result"
    }
   ],
   "source": [
    "rand_x = np.random.randint(3, size = 3)\n",
    "rand_x"
   ]
  },
  {
   "cell_type": "code",
   "execution_count": 9,
   "metadata": {},
   "outputs": [
    {
     "data": {
      "text/html": [
       "<div>\n",
       "<style scoped>\n",
       "    .dataframe tbody tr th:only-of-type {\n",
       "        vertical-align: middle;\n",
       "    }\n",
       "\n",
       "    .dataframe tbody tr th {\n",
       "        vertical-align: top;\n",
       "    }\n",
       "\n",
       "    .dataframe thead th {\n",
       "        text-align: right;\n",
       "    }\n",
       "</style>\n",
       "<table border=\"1\" class=\"dataframe\">\n",
       "  <thead>\n",
       "    <tr style=\"text-align: right;\">\n",
       "      <th></th>\n",
       "      <th>height</th>\n",
       "      <th>tail length</th>\n",
       "      <th>leg length</th>\n",
       "      <th>nose circumference</th>\n",
       "    </tr>\n",
       "  </thead>\n",
       "  <tbody>\n",
       "    <tr>\n",
       "      <th>0</th>\n",
       "      <td>5.151</td>\n",
       "      <td>3.535</td>\n",
       "      <td>1.414</td>\n",
       "      <td>0.202</td>\n",
       "    </tr>\n",
       "    <tr>\n",
       "      <th>1</th>\n",
       "      <td>4.949</td>\n",
       "      <td>3.030</td>\n",
       "      <td>1.414</td>\n",
       "      <td>0.202</td>\n",
       "    </tr>\n",
       "    <tr>\n",
       "      <th>2</th>\n",
       "      <td>4.747</td>\n",
       "      <td>3.232</td>\n",
       "      <td>1.313</td>\n",
       "      <td>0.202</td>\n",
       "    </tr>\n",
       "    <tr>\n",
       "      <th>3</th>\n",
       "      <td>4.646</td>\n",
       "      <td>3.131</td>\n",
       "      <td>1.515</td>\n",
       "      <td>0.202</td>\n",
       "    </tr>\n",
       "    <tr>\n",
       "      <th>4</th>\n",
       "      <td>5.050</td>\n",
       "      <td>3.636</td>\n",
       "      <td>1.414</td>\n",
       "      <td>0.202</td>\n",
       "    </tr>\n",
       "    <tr>\n",
       "      <th>...</th>\n",
       "      <td>...</td>\n",
       "      <td>...</td>\n",
       "      <td>...</td>\n",
       "      <td>...</td>\n",
       "    </tr>\n",
       "    <tr>\n",
       "      <th>295</th>\n",
       "      <td>6.834</td>\n",
       "      <td>3.060</td>\n",
       "      <td>5.304</td>\n",
       "      <td>2.346</td>\n",
       "    </tr>\n",
       "    <tr>\n",
       "      <th>296</th>\n",
       "      <td>6.426</td>\n",
       "      <td>2.550</td>\n",
       "      <td>5.100</td>\n",
       "      <td>1.938</td>\n",
       "    </tr>\n",
       "    <tr>\n",
       "      <th>297</th>\n",
       "      <td>6.630</td>\n",
       "      <td>3.060</td>\n",
       "      <td>5.304</td>\n",
       "      <td>2.040</td>\n",
       "    </tr>\n",
       "    <tr>\n",
       "      <th>298</th>\n",
       "      <td>6.324</td>\n",
       "      <td>3.468</td>\n",
       "      <td>5.508</td>\n",
       "      <td>2.346</td>\n",
       "    </tr>\n",
       "    <tr>\n",
       "      <th>299</th>\n",
       "      <td>6.018</td>\n",
       "      <td>3.060</td>\n",
       "      <td>5.202</td>\n",
       "      <td>1.836</td>\n",
       "    </tr>\n",
       "  </tbody>\n",
       "</table>\n",
       "<p>300 rows × 4 columns</p>\n",
       "</div>"
      ],
      "text/plain": [
       "     height  tail length  leg length  nose circumference\n",
       "0     5.151        3.535       1.414               0.202\n",
       "1     4.949        3.030       1.414               0.202\n",
       "2     4.747        3.232       1.313               0.202\n",
       "3     4.646        3.131       1.515               0.202\n",
       "4     5.050        3.636       1.414               0.202\n",
       "..      ...          ...         ...                 ...\n",
       "295   6.834        3.060       5.304               2.346\n",
       "296   6.426        2.550       5.100               1.938\n",
       "297   6.630        3.060       5.304               2.040\n",
       "298   6.324        3.468       5.508               2.346\n",
       "299   6.018        3.060       5.202               1.836\n",
       "\n",
       "[300 rows x 4 columns]"
      ]
     },
     "execution_count": 9,
     "metadata": {},
     "output_type": "execute_result"
    }
   ],
   "source": [
    "data"
   ]
  },
  {
   "cell_type": "markdown",
   "metadata": {},
   "source": [
    "How can four features be used to calculate a 2d output?\n",
    "How do the four features translate to a 2d centroid?\n",
    "How is the axsis of the plot made from the features?"
   ]
  },
  {
   "cell_type": "code",
   "execution_count": null,
   "metadata": {},
   "outputs": [],
   "source": []
  }
 ],
 "metadata": {
  "kernelspec": {
   "display_name": "Python 3",
   "language": "python",
   "name": "python3"
  },
  "language_info": {
   "codemirror_mode": {
    "name": "ipython",
    "version": 3
   },
   "file_extension": ".py",
   "mimetype": "text/x-python",
   "name": "python",
   "nbconvert_exporter": "python",
   "pygments_lexer": "ipython3",
   "version": "3.8.3"
  }
 },
 "nbformat": 4,
 "nbformat_minor": 4
}
