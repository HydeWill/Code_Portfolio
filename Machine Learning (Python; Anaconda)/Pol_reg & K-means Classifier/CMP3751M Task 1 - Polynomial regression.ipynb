{
 "cells": [
  {
   "cell_type": "markdown",
   "metadata": {},
   "source": [
    "# Implementation of Polnomial Regresion "
   ]
  },
  {
   "cell_type": "code",
   "execution_count": 1,
   "metadata": {},
   "outputs": [
    {
     "data": {
      "text/plain": [
       "Unnamed: 0      int64\n",
       "x             float64\n",
       "y             float64\n",
       "dtype: object"
      ]
     },
     "execution_count": 1,
     "metadata": {},
     "output_type": "execute_result"
    }
   ],
   "source": [
    "#Required imports for the algorithm\n",
    "import numpy as np\n",
    "import pandas as pd\n",
    "import matplotlib.pyplot as plt\n",
    "import numpy.linalg as linalg\n",
    "\n",
    "# Reading in data\n",
    "data = pd.read_csv('Task1 - dataset - pol_regression.csv')\n",
    "data"
   ]
  },
  {
   "cell_type": "code",
   "execution_count": 2,
   "metadata": {},
   "outputs": [],
   "source": [
    "# Seperating x and y value from the data set\n",
    "x_train = data['x']\n",
    "y_train = data['y']"
   ]
  },
  {
   "cell_type": "code",
   "execution_count": 3,
   "metadata": {},
   "outputs": [],
   "source": [
    "#Expands regression according to the size of the degree\n",
    "def feature_expansion(features_train,degree):\n",
    "    # Creates a matrix of features with the degrees applied\n",
    "    X = np.ones(features_train.shape)\n",
    "    for i in range(1,degree + 1):\n",
    "        X = np.column_stack((X, features_train ** i))\n",
    "    return X"
   ]
  },
  {
   "cell_type": "code",
   "execution_count": 4,
   "metadata": {},
   "outputs": [],
   "source": [
    "def pol_regression(features_train, y_train, degree):\n",
    "   \n",
    "    # Least Sqaures to find weights\n",
    "    if degree != 0:\n",
    "        parameters = feature_expansion(features_train,degree)\n",
    "        tmp = parameters.transpose().dot(parameters)\n",
    "        polynomial_coefficients = np.linalg.solve(tmp,parameters.transpose().dot(y_train))\n",
    "        \n",
    "    else:\n",
    "        #Returns the constant when the degree is 0\n",
    "        degree = 1 \n",
    "        parameters = feature_expansion(features_train,degree)\n",
    "        tmp = parameters.transpose().dot(parameters)\n",
    "        polynomial_coefficients = np.linalg.solve(tmp,parameters.transpose().dot(y_train))\n",
    "        polynomial_coefficients = np.delete(polynomial_coefficients,1)\n",
    "    return polynomial_coefficients"
   ]
  },
  {
   "cell_type": "code",
   "execution_count": 5,
   "metadata": {
    "scrolled": true
   },
   "outputs": [
    {
     "data": {
      "text/plain": [
       "<matplotlib.legend.Legend at 0x291edd46df0>"
      ]
     },
     "execution_count": 5,
     "metadata": {},
     "output_type": "execute_result"
    },
    {
     "data": {
      "image/png": "[encoded data removed]",
      "text/plain": [
       "<Figure size 432x288 with 1 Axes>"
      ]
     },
     "metadata": {
      "needs_background": "light"
     },
     "output_type": "display_data"
    }
   ],
   "source": [
    "plt.figure()\n",
    "plt.plot(x_train,y_train, 'o')\n",
    "\n",
    "x_range = np.linspace(-5,5,100) \n",
    "\n",
    "weights = pol_regression(x_train, y_train, 0)\n",
    "X = feature_expansion(x_range,0)\n",
    "y_predict = X*weights\n",
    "plt.plot(x_range, y_predict, 'r')\n",
    "\n",
    "\n",
    "weights = pol_regression(x_train, y_train, 1)\n",
    "X = feature_expansion(x_range,1)\n",
    "y_predict = X.dot(weights)\n",
    "plt.plot(x_range, y_predict, 'r')\n",
    "\n",
    "weights = pol_regression(x_train, y_train, 2)\n",
    "X = feature_expansion(x_range,2)\n",
    "y_predict = X.dot(weights)\n",
    "plt.plot(x_range, y_predict, 'g')\n",
    "\n",
    "weights = pol_regression(x_train, y_train, 3)\n",
    "X = feature_expansion(x_range,3)\n",
    "y_predict = X.dot(weights)\n",
    "plt.plot(x_range, y_predict, 'b')\n",
    "\n",
    "weights = pol_regression(x_train, y_train, 6)\n",
    "X = feature_expansion(x_range,6)\n",
    "y_predict = X.dot(weights)\n",
    "plt.plot(x_range, y_predict, 'm')\n",
    "\n",
    "weights = pol_regression(x_train, y_train, 10)\n",
    "X = feature_expansion(x_range,10)\n",
    "y_predict = X.dot(weights)\n",
    "plt.plot(x_range, y_predict, 'c')\n",
    "\n",
    "plt.ylim((-200, 100))\n",
    "\n",
    "plt.xlabel('X')\n",
    "plt.ylabel('Predicted Y')\n",
    "plt.legend(('training points', '$C$', '$x$', '$x^2$', '$x^3$', '$x^6$', '$x¹⁰$'), loc = 4)"
   ]
  },
  {
   "cell_type": "markdown",
   "metadata": {},
   "source": [
    "# Evaluation\n"
   ]
  },
  {
   "cell_type": "code",
   "execution_count": 6,
   "metadata": {},
   "outputs": [
    {
     "name": "stdout",
     "output_type": "stream",
     "text": [
      "0       2.238321\n",
      "9       1.586948\n",
      "19     -2.259106\n",
      "7     -29.934683\n",
      "16   -162.084241\n",
      "12     -3.133557\n",
      "10   -155.192926\n",
      "14    -13.629526\n",
      "11      0.737940\n",
      "15     -7.818825\n",
      "5       3.237086\n",
      "3      -1.580098\n",
      "13      2.772584\n",
      "1     -13.104269\n",
      "Name: y, dtype: float64 \n",
      "\n",
      " 0       2.238321\n",
      "9       1.586948\n",
      "19     -2.259106\n",
      "7     -29.934683\n",
      "16   -162.084241\n",
      "12     -3.133557\n",
      "10   -155.192926\n",
      "14    -13.629526\n",
      "11      0.737940\n",
      "15     -7.818825\n",
      "5       3.237086\n",
      "3      -1.580098\n",
      "13      2.772584\n",
      "1     -13.104269\n",
      "Name: y, dtype: float64 \n",
      "\n",
      " 18   -2.407476\n",
      "17    0.588541\n",
      "4     3.929470\n",
      "2    -2.090953\n",
      "8    -4.485328\n",
      "6    -3.744147\n",
      "Name: x, dtype: float64 \n",
      "\n",
      " 18    -15.690391\n",
      "17    -15.192640\n",
      "4       9.174928\n",
      "2     -10.895881\n",
      "8    -125.275943\n",
      "6     -72.556875\n",
      "Name: y, dtype: float64\n"
     ]
    }
   ],
   "source": [
    "#Evaluation split \n",
    "shuf = data.sample(frac=1)\n",
    "\n",
    "train_size = int(0.7 * len(data))\n",
    "\n",
    "data_train = shuf[:train_size]\n",
    "data_test = shuf[train_size:]\n",
    "\n",
    "X_train = data_train['x']\n",
    "Y_train = data_train['y']\n",
    "\n",
    "X_test = data_test['x']\n",
    "Y_test = data_test['y']\n",
    "\n",
    "print(Y_train,'\\n\\n',Y_train,'\\n\\n',X_test,'\\n\\n',Y_test)"
   ]
  },
  {
   "cell_type": "code",
   "execution_count": 7,
   "metadata": {
    "scrolled": true
   },
   "outputs": [],
   "source": [
    "def eval_pol_regression(parameters, x, y, degree):\n",
    "    #Caculating the predicted y\n",
    "    X = feature_expansion(x,degree)\n",
    "    #Condition for when degree equals 0\n",
    "    if degree != 0:\n",
    "        y_predict = X.dot(parameters)\n",
    "    else:\n",
    "        y_predict = X*parameters\n",
    "    \n",
    "    # Calculates the error to find the Sum of Squared Error \n",
    "    err = y - y_predict\n",
    "    SSE = err.dot(err)\n",
    "    #Divides by the length of the x values to find the average\n",
    "    MSE = SSE/len(x)\n",
    "    #Roots the Mean sqaured error to find the RMSE\n",
    "    RMSE = np.sqrt(MSE)\n",
    "    return RMSE"
   ]
  },
  {
   "cell_type": "code",
   "execution_count": 8,
   "metadata": {
    "scrolled": true
   },
   "outputs": [
    {
     "data": {
      "image/png": "[encoded data removed]",
      "text/plain": [
       "<Figure size 432x288 with 1 Axes>"
      ]
     },
     "metadata": {
      "needs_background": "light"
     },
     "output_type": "display_data"
    }
   ],
   "source": [
    "train_0 = eval_pol_regression(pol_regression(X_train,Y_train,0), X_train, Y_train,0)\n",
    "test_0 = eval_pol_regression(pol_regression(X_test, Y_test,0), X_train, Y_train,0)\n",
    "\n",
    "train_1 = eval_pol_regression(pol_regression(X_train,Y_train,1), X_train, Y_train,1)\n",
    "test_1 = eval_pol_regression(pol_regression(X_test, Y_test,1), X_train, Y_train,1)\n",
    "\n",
    "train_2 = eval_pol_regression(pol_regression(X_train,Y_train,2), X_train, Y_train,2)\n",
    "test_2 = eval_pol_regression(pol_regression(X_test, Y_test,2), X_train, Y_train,2)\n",
    "\n",
    "train_3 = eval_pol_regression(pol_regression(X_train,Y_train,3), X_train, Y_train,3)\n",
    "test_3 = eval_pol_regression(pol_regression(X_test, Y_test,3), X_train, Y_train,3)\n",
    "\n",
    "train_6 = eval_pol_regression(pol_regression(X_train,Y_train,6), X_train, Y_train,6)\n",
    "test_6 = eval_pol_regression(pol_regression(X_test, Y_test,6), X_train, Y_train,6)\n",
    "\n",
    "train_10 = eval_pol_regression(pol_regression(X_train,Y_train,10), X_train, Y_train,10)\n",
    "test_10 = eval_pol_regression(pol_regression(X_test, Y_test,10), X_train, Y_train,10)\n",
    "\n",
    "degree_plot = [0,1,2,3,6,10]\n",
    "train_RMSE = train_0,train_1,train_2,train_3,train_6,train_10\n",
    "test_RMSE = test_0,test_1,test_2,test_3,test_6,test_10\n",
    "plt.plot(degree_plot,train_RMSE)\n",
    "plt.plot(degree_plot,test_RMSE)\n",
    "\n",
    "plt.plot(0,train_0,'bo')\n",
    "plt.plot(0,test_0,'yo')\n",
    "plt.plot(1,train_1,'bo')\n",
    "plt.plot(1,test_1,'yo')\n",
    "plt.plot(2,train_2,'bo')\n",
    "plt.plot(2,test_2,'yo')\n",
    "plt.plot(3,train_3,'bo')\n",
    "plt.plot(3,test_3,'yo')\n",
    "plt.plot(6,train_6,'bo')\n",
    "plt.plot(6,test_6,'yo')\n",
    "plt.plot(10,train_10,'bo')\n",
    "plt.plot(10,test_10,'yo')\n",
    "\n",
    "plt.xlabel('Degree')\n",
    "plt.ylabel('RMSE')\n",
    "plt.legend(('RMSE on training set', 'RMSE on test set'))\n",
    "plt.savefig('RMSE_comparison_2.png')\n"
   ]
  },
  {
   "cell_type": "code",
   "execution_count": 9,
   "metadata": {},
   "outputs": [
    {
     "data": {
      "image/png": "[encoded data removed]",
      "text/plain": [
       "<Figure size 432x288 with 1 Axes>"
      ]
     },
     "metadata": {
      "needs_background": "light"
     },
     "output_type": "display_data"
    }
   ],
   "source": [
    "\n",
    "plt.plot(X_test, Y_test,'bo')\n",
    "plt.plot(X_train, Y_train,'go')\n",
    "plt.legend(('Traing points','Testing points'))\n",
    "plt.savefig('test_train.png')\n"
   ]
  }
 ],
 "metadata": {
  "kernelspec": {
   "display_name": "Python 3",
   "language": "python",
   "name": "python3"
  },
  "language_info": {
   "codemirror_mode": {
    "name": "ipython",
    "version": 3
   },
   "file_extension": ".py",
   "mimetype": "text/x-python",
   "name": "python",
   "nbconvert_exporter": "python",
   "pygments_lexer": "ipython3",
   "version": "3.8.3"
  }
 },
 "nbformat": 4,
 "nbformat_minor": 4
}
