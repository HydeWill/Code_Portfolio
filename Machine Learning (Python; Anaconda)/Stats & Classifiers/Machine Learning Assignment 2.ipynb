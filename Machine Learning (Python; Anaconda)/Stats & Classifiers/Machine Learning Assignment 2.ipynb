{
 "cells": [
  {
   "cell_type": "markdown",
   "metadata": {},
   "source": [
    "# Section 1 - Data import, summary, pre-processing and visualisation"
   ]
  },
  {
   "cell_type": "code",
   "execution_count": 1,
   "metadata": {},
   "outputs": [
    {
     "name": "stdout",
     "output_type": "stream",
     "text": [
      "1270\n"
     ]
    },
    {
     "data": {
      "text/html": [
       "<div>\n",
       "<style scoped>\n",
       "    .dataframe tbody tr th:only-of-type {\n",
       "        vertical-align: middle;\n",
       "    }\n",
       "\n",
       "    .dataframe tbody tr th {\n",
       "        vertical-align: top;\n",
       "    }\n",
       "\n",
       "    .dataframe thead th {\n",
       "        text-align: right;\n",
       "    }\n",
       "</style>\n",
       "<table border=\"1\" class=\"dataframe\">\n",
       "  <thead>\n",
       "    <tr style=\"text-align: right;\">\n",
       "      <th></th>\n",
       "      <th>Age</th>\n",
       "      <th>BMI</th>\n",
       "      <th>Glucose</th>\n",
       "      <th>Insulin</th>\n",
       "      <th>HOMA</th>\n",
       "      <th>Leptin</th>\n",
       "      <th>Adiponectin</th>\n",
       "      <th>Resistin</th>\n",
       "      <th>MCP.1</th>\n",
       "      <th>Status</th>\n",
       "    </tr>\n",
       "  </thead>\n",
       "  <tbody>\n",
       "    <tr>\n",
       "      <th>0</th>\n",
       "      <td>52</td>\n",
       "      <td>26.543128</td>\n",
       "      <td>83</td>\n",
       "      <td>6.156439</td>\n",
       "      <td>1.352861</td>\n",
       "      <td>22.531863</td>\n",
       "      <td>8.832323</td>\n",
       "      <td>10.084147</td>\n",
       "      <td>416.257761</td>\n",
       "      <td>healthy</td>\n",
       "    </tr>\n",
       "    <tr>\n",
       "      <th>1</th>\n",
       "      <td>41</td>\n",
       "      <td>23.527236</td>\n",
       "      <td>74</td>\n",
       "      <td>4.835092</td>\n",
       "      <td>1.013678</td>\n",
       "      <td>15.552154</td>\n",
       "      <td>6.289545</td>\n",
       "      <td>7.482242</td>\n",
       "      <td>274.366161</td>\n",
       "      <td>healthy</td>\n",
       "    </tr>\n",
       "    <tr>\n",
       "      <th>2</th>\n",
       "      <td>40</td>\n",
       "      <td>23.278413</td>\n",
       "      <td>73</td>\n",
       "      <td>4.726075</td>\n",
       "      <td>0.985695</td>\n",
       "      <td>14.976300</td>\n",
       "      <td>6.079755</td>\n",
       "      <td>7.267574</td>\n",
       "      <td>262.659535</td>\n",
       "      <td>healthy</td>\n",
       "    </tr>\n",
       "    <tr>\n",
       "      <th>3</th>\n",
       "      <td>27</td>\n",
       "      <td>19.535749</td>\n",
       "      <td>63</td>\n",
       "      <td>3.086309</td>\n",
       "      <td>0.564775</td>\n",
       "      <td>6.314613</td>\n",
       "      <td>2.924216</td>\n",
       "      <td>4.038659</td>\n",
       "      <td>86.574756</td>\n",
       "      <td>healthy</td>\n",
       "    </tr>\n",
       "    <tr>\n",
       "      <th>4</th>\n",
       "      <td>32</td>\n",
       "      <td>20.839655</td>\n",
       "      <td>66</td>\n",
       "      <td>3.657587</td>\n",
       "      <td>0.711419</td>\n",
       "      <td>9.332254</td>\n",
       "      <td>4.023573</td>\n",
       "      <td>5.163580</td>\n",
       "      <td>147.920865</td>\n",
       "      <td>healthy</td>\n",
       "    </tr>\n",
       "    <tr>\n",
       "      <th>...</th>\n",
       "      <td>...</td>\n",
       "      <td>...</td>\n",
       "      <td>...</td>\n",
       "      <td>...</td>\n",
       "      <td>...</td>\n",
       "      <td>...</td>\n",
       "      <td>...</td>\n",
       "      <td>...</td>\n",
       "      <td>...</td>\n",
       "      <td>...</td>\n",
       "    </tr>\n",
       "    <tr>\n",
       "      <th>122</th>\n",
       "      <td>45</td>\n",
       "      <td>26.850000</td>\n",
       "      <td>92</td>\n",
       "      <td>3.330000</td>\n",
       "      <td>0.755688</td>\n",
       "      <td>54.680000</td>\n",
       "      <td>12.100000</td>\n",
       "      <td>10.960000</td>\n",
       "      <td>268.230000</td>\n",
       "      <td>cancerous</td>\n",
       "    </tr>\n",
       "    <tr>\n",
       "      <th>123</th>\n",
       "      <td>62</td>\n",
       "      <td>26.840000</td>\n",
       "      <td>100</td>\n",
       "      <td>4.530000</td>\n",
       "      <td>1.117400</td>\n",
       "      <td>12.450000</td>\n",
       "      <td>21.420000</td>\n",
       "      <td>7.320000</td>\n",
       "      <td>330.160000</td>\n",
       "      <td>cancerous</td>\n",
       "    </tr>\n",
       "    <tr>\n",
       "      <th>124</th>\n",
       "      <td>65</td>\n",
       "      <td>32.050000</td>\n",
       "      <td>97</td>\n",
       "      <td>5.730000</td>\n",
       "      <td>1.370998</td>\n",
       "      <td>61.480000</td>\n",
       "      <td>22.540000</td>\n",
       "      <td>10.330000</td>\n",
       "      <td>314.050000</td>\n",
       "      <td>cancerous</td>\n",
       "    </tr>\n",
       "    <tr>\n",
       "      <th>125</th>\n",
       "      <td>72</td>\n",
       "      <td>25.590000</td>\n",
       "      <td>82</td>\n",
       "      <td>2.820000</td>\n",
       "      <td>0.570392</td>\n",
       "      <td>24.960000</td>\n",
       "      <td>33.750000</td>\n",
       "      <td>3.270000</td>\n",
       "      <td>392.460000</td>\n",
       "      <td>cancerous</td>\n",
       "    </tr>\n",
       "    <tr>\n",
       "      <th>126</th>\n",
       "      <td>86</td>\n",
       "      <td>27.180000</td>\n",
       "      <td>138</td>\n",
       "      <td>19.910000</td>\n",
       "      <td>6.777364</td>\n",
       "      <td>90.280000</td>\n",
       "      <td>14.110000</td>\n",
       "      <td>4.350000</td>\n",
       "      <td>90.090000</td>\n",
       "      <td>cancerous</td>\n",
       "    </tr>\n",
       "  </tbody>\n",
       "</table>\n",
       "<p>127 rows × 10 columns</p>\n",
       "</div>"
      ],
      "text/plain": [
       "     Age        BMI  Glucose    Insulin      HOMA     Leptin  Adiponectin  \\\n",
       "0     52  26.543128       83   6.156439  1.352861  22.531863     8.832323   \n",
       "1     41  23.527236       74   4.835092  1.013678  15.552154     6.289545   \n",
       "2     40  23.278413       73   4.726075  0.985695  14.976300     6.079755   \n",
       "3     27  19.535749       63   3.086309  0.564775   6.314613     2.924216   \n",
       "4     32  20.839655       66   3.657587  0.711419   9.332254     4.023573   \n",
       "..   ...        ...      ...        ...       ...        ...          ...   \n",
       "122   45  26.850000       92   3.330000  0.755688  54.680000    12.100000   \n",
       "123   62  26.840000      100   4.530000  1.117400  12.450000    21.420000   \n",
       "124   65  32.050000       97   5.730000  1.370998  61.480000    22.540000   \n",
       "125   72  25.590000       82   2.820000  0.570392  24.960000    33.750000   \n",
       "126   86  27.180000      138  19.910000  6.777364  90.280000    14.110000   \n",
       "\n",
       "      Resistin       MCP.1     Status  \n",
       "0    10.084147  416.257761    healthy  \n",
       "1     7.482242  274.366161    healthy  \n",
       "2     7.267574  262.659535    healthy  \n",
       "3     4.038659   86.574756    healthy  \n",
       "4     5.163580  147.920865    healthy  \n",
       "..         ...         ...        ...  \n",
       "122  10.960000  268.230000  cancerous  \n",
       "123   7.320000  330.160000  cancerous  \n",
       "124  10.330000  314.050000  cancerous  \n",
       "125   3.270000  392.460000  cancerous  \n",
       "126   4.350000   90.090000  cancerous  \n",
       "\n",
       "[127 rows x 10 columns]"
      ]
     },
     "execution_count": 1,
     "metadata": {},
     "output_type": "execute_result"
    }
   ],
   "source": [
    "import numpy as np\n",
    "import pandas as pd\n",
    "import matplotlib.pyplot as plt\n",
    "from scipy import stats\n",
    "from scipy.stats import gaussian_kde\n",
    "from scipy.stats import skew\n",
    "\n",
    "#Reads in data\n",
    "data = pd.read_excel('clinical_dataset.xlsx')\n",
    "print(np.size(data))\n",
    "data"
   ]
  },
  {
   "cell_type": "code",
   "execution_count": 2,
   "metadata": {},
   "outputs": [
    {
     "data": {
      "text/plain": [
       "array([[52, 26.5431276885291, 83, ..., 10.0841473646695,\n",
       "        416.257761263498, 'healthy'],\n",
       "       [41, 23.5272362946489, 74, ..., 7.48224205253197,\n",
       "        274.366160510167, 'healthy'],\n",
       "       [40, 23.2784131698069, 73, ..., 7.26757443829932,\n",
       "        262.659534880372, 'healthy'],\n",
       "       ...,\n",
       "       [65, 32.05, 97, ..., 10.33, 314.05, 'cancerous'],\n",
       "       [72, 25.59, 82, ..., 3.27, 392.46, 'cancerous'],\n",
       "       [86, 27.18, 138, ..., 4.35, 90.09, 'cancerous']], dtype=object)"
      ]
     },
     "execution_count": 2,
     "metadata": {},
     "output_type": "execute_result"
    }
   ],
   "source": [
    "data_mat= data.to_numpy()\n",
    "data_mat"
   ]
  },
  {
   "cell_type": "code",
   "execution_count": 3,
   "metadata": {},
   "outputs": [
    {
     "data": {
      "text/plain": [
       "array([ 55.85 ,  27.216,  95.701,   9.557,   2.548,  25.622,   9.831,\n",
       "        14.085, 511.389])"
      ]
     },
     "execution_count": 3,
     "metadata": {},
     "output_type": "execute_result"
    }
   ],
   "source": [
    "#Mean of each feature\n",
    "Mean_vals = [np.mean(data['Age']),\n",
    "np.mean(data['BMI']),\n",
    "np.mean(data['Glucose']),\n",
    "np.mean(data['Insulin']),\n",
    "np.mean(data['HOMA']),\n",
    "np.mean(data['Leptin']),\n",
    "np.mean(data['Adiponectin']),\n",
    "np.mean(data['Resistin']),\n",
    "np.mean(data['MCP.1'])]\n",
    "\n",
    "Mean_vals = np.round(Mean_vals, decimals=3)\n",
    "Mean_vals"
   ]
  },
  {
   "cell_type": "code",
   "execution_count": 4,
   "metadata": {},
   "outputs": [
    {
     "data": {
      "text/plain": [
       "array([ 16.287,   4.989,  22.607,   9.7  ,   3.5  ,  18.631,   6.645,\n",
       "        11.993, 339.849])"
      ]
     },
     "execution_count": 4,
     "metadata": {},
     "output_type": "execute_result"
    }
   ],
   "source": [
    "#Standard deviation of each feature\n",
    "SD_vals = [np.std(data['Age']),\n",
    "np.std(data['BMI']),\n",
    "np.std(data['Glucose']),\n",
    "np.std(data['Insulin']),\n",
    "np.std(data['HOMA']),\n",
    "np.std(data['Leptin']),\n",
    "np.std(data['Adiponectin']),\n",
    "np.std(data['Resistin']),\n",
    "np.std(data['MCP.1'])]\n",
    "\n",
    "SD_vals = np.round(SD_vals, decimals=3)\n",
    "SD_vals"
   ]
  },
  {
   "cell_type": "code",
   "execution_count": 5,
   "metadata": {},
   "outputs": [
    {
     "data": {
      "text/plain": [
       "array([24.   , 18.37 , 60.   ,  2.432,  0.467,  4.311,  1.656,  3.21 ,\n",
       "       45.843])"
      ]
     },
     "execution_count": 5,
     "metadata": {},
     "output_type": "execute_result"
    }
   ],
   "source": [
    "#Minimum of each feature\n",
    "Min_vals = [np.amin(data['Age']),\n",
    "np.amin(data['BMI']),\n",
    "np.amin(data['Glucose']),\n",
    "np.amin(data['Insulin']),\n",
    "np.amin(data['HOMA']),\n",
    "np.amin(data['Leptin']),\n",
    "np.amin(data['Adiponectin']),\n",
    "np.amin(data['Resistin']),\n",
    "np.amin(data['MCP.1'])]\n",
    "\n",
    "Min_vals = np.round(Min_vals, decimals=3)\n",
    "Min_vals"
   ]
  },
  {
   "cell_type": "code",
   "execution_count": 6,
   "metadata": {},
   "outputs": [
    {
     "data": {
      "text/plain": [
       "array([  89.   ,   38.579,  201.   ,   58.46 ,   25.05 ,   90.28 ,\n",
       "         38.04 ,   82.1  , 1698.44 ])"
      ]
     },
     "execution_count": 6,
     "metadata": {},
     "output_type": "execute_result"
    }
   ],
   "source": [
    "#Maximum of each feature\n",
    "Max_vals = [np.amax(data['Age']),\n",
    "np.amax(data['BMI']),\n",
    "np.amax(data['Glucose']),\n",
    "np.amax(data['Insulin']),\n",
    "np.amax(data['HOMA']),\n",
    "np.amax(data['Leptin']),\n",
    "np.amax(data['Adiponectin']),\n",
    "np.amax(data['Resistin']),\n",
    "np.amax(data['MCP.1'])]\n",
    "\n",
    "Max_vals = np.round(Max_vals, decimals=3)\n",
    "Max_vals"
   ]
  },
  {
   "cell_type": "code",
   "execution_count": 7,
   "metadata": {},
   "outputs": [
    {
     "data": {
      "text/plain": [
       "array([ 53.   ,  27.1  ,  92.   ,   5.782,   1.341,  19.065,   8.237,\n",
       "        10.345, 426.175])"
      ]
     },
     "execution_count": 7,
     "metadata": {},
     "output_type": "execute_result"
    }
   ],
   "source": [
    "#Median of each feature\n",
    "Median_vals = [np.median(data['Age']),\n",
    "np.median(data['BMI']),\n",
    "np.median(data['Glucose']),\n",
    "np.median(data['Insulin']),\n",
    "np.median(data['HOMA']),\n",
    "np.median(data['Leptin']),\n",
    "np.median(data['Adiponectin']),\n",
    "np.median(data['Resistin']),\n",
    "np.median(data['MCP.1'])]\n",
    "\n",
    "Median_vals = np.round(Median_vals, decimals=3)\n",
    "Median_vals"
   ]
  },
  {
   "cell_type": "code",
   "execution_count": 8,
   "metadata": {},
   "outputs": [
    {
     "data": {
      "text/plain": [
       "[ModeResult(mode=array([45], dtype=int64), count=array([7])),\n",
       " ModeResult(mode=array([21.36752137]), count=array([2])),\n",
       " ModeResult(mode=array([92], dtype=int64), count=array([9])),\n",
       " ModeResult(mode=array([3.226]), count=array([2])),\n",
       " ModeResult(mode=array([0.46740867]), count=array([1])),\n",
       " ModeResult(mode=array([4.311]), count=array([1])),\n",
       " ModeResult(mode=array([2.19428]), count=array([2])),\n",
       " ModeResult(mode=array([3.21]), count=array([1])),\n",
       " ModeResult(mode=array([1698.44]), count=array([4]))]"
      ]
     },
     "execution_count": 8,
     "metadata": {},
     "output_type": "execute_result"
    }
   ],
   "source": [
    "#Mode of each feature\n",
    "Mode_vals = [stats.mode(data['Age']),\n",
    "stats.mode(data['BMI']),\n",
    "stats.mode(data['Glucose']),\n",
    "stats.mode(data['Insulin']),\n",
    "stats.mode(data['HOMA']),\n",
    "stats.mode(data['Leptin']),\n",
    "stats.mode(data['Adiponectin']),\n",
    "stats.mode(data['Resistin']),\n",
    "stats.mode(data['MCP.1'])]\n",
    "\n",
    "Mode_vals"
   ]
  },
  {
   "cell_type": "code",
   "execution_count": 9,
   "metadata": {},
   "outputs": [
    {
     "data": {
      "text/plain": [
       "[array([37., 24.]), array([72., 89.]), array([45., 34.]), array([68., 86.])]"
      ]
     },
     "execution_count": 9,
     "metadata": {},
     "output_type": "execute_result"
    },
    {
     "data": {
      "image/png": "[encoded data removed]",
      "text/plain": [
       "<Figure size 432x288 with 1 Axes>"
      ]
     },
     "metadata": {
      "needs_background": "light"
     },
     "output_type": "display_data"
    }
   ],
   "source": [
    "group = data.groupby(data.Status)\n",
    "Healthy = group.get_group('healthy')\n",
    "Cancerous = group.get_group('cancerous')\n",
    "age_h = Healthy.Age\n",
    "age_c = Cancerous.Age\n",
    "\n",
    "Box = plt.boxplot([age_h,age_c])\n",
    "plt.xticks([1, 2,], ['Healthy', 'Cancerous'])\n",
    "plt.ylabel('Age')\n",
    "\n",
    "plt.savefig('Boxplot(Age)')\n",
    "\n",
    "[item.get_ydata() for item in Box['whiskers']]"
   ]
  },
  {
   "cell_type": "code",
   "execution_count": 16,
   "metadata": {},
   "outputs": [
    {
     "data": {
      "image/png": "[encoded data removed]",
      "text/plain": [
       "<Figure size 432x288 with 1 Axes>"
      ]
     },
     "metadata": {
      "needs_background": "light"
     },
     "output_type": "display_data"
    },
    {
     "data": {
      "text/plain": [
       "<Figure size 432x288 with 0 Axes>"
      ]
     },
     "metadata": {},
     "output_type": "display_data"
    }
   ],
   "source": [
    "density = gaussian_kde(data.BMI)\n",
    "x_vals = np.linspace(0,60,100)\n",
    "density.covariance_factor = lambda : .5\n",
    "density._compute_covariance()\n",
    "plt.plot(x_vals,density(x_vals))\n",
    "plt.xlabel('BMI')\n",
    "plt.ylabel('Probabilty Density')\n",
    "plt.show()\n",
    "plt.savefig('Density_graph')"
   ]
  },
  {
   "cell_type": "code",
   "execution_count": 11,
   "metadata": {},
   "outputs": [
    {
     "data": {
      "text/plain": [
       "0.25667299705199786"
      ]
     },
     "execution_count": 11,
     "metadata": {},
     "output_type": "execute_result"
    }
   ],
   "source": [
    "skew(data.BMI)"
   ]
  },
  {
   "cell_type": "markdown",
   "metadata": {},
   "source": [
    "# Section 3"
   ]
  },
  {
   "cell_type": "code",
   "execution_count": 12,
   "metadata": {},
   "outputs": [],
   "source": [
    "#SKlearn imports\n",
    "from sklearn.model_selection import train_test_split\n",
    "from sklearn.neural_network import MLPClassifier\n",
    "#Initialises predictor feature\n",
    "x_features = ['Age','BMI','Glucose','Insulin','HOMA','Leptin','Adiponectin','Resistin','MCP.1']\n",
    "#Initialises predictors and targets\n",
    "X = data[x_features]\n",
    "y = data['Status'].replace({'healthy': 1, 'cancerous': 0})\n",
    "#Splits data into 90% traning and 10% testing\n",
    "x_train, x_test, y_train, y_test = train_test_split(X, y, train_size = 0.9)\n"
   ]
  },
  {
   "cell_type": "code",
   "execution_count": 13,
   "metadata": {},
   "outputs": [
    {
     "name": "stderr",
     "output_type": "stream",
     "text": [
      "C:\\Users\\Will\\anaconda3\\lib\\site-packages\\sklearn\\neural_network\\_multilayer_perceptron.py:582: ConvergenceWarning: Stochastic Optimizer: Maximum iterations (100) reached and the optimization hasn't converged yet.\n",
      "  warnings.warn(\n"
     ]
    },
    {
     "data": {
      "text/plain": [
       "0.7692307692307693"
      ]
     },
     "execution_count": 13,
     "metadata": {},
     "output_type": "execute_result"
    }
   ],
   "source": [
    "from sklearn.metrics import accuracy_score\n",
    "#Model network being fit to training data\n",
    "clf = MLPClassifier(hidden_layer_sizes=500,activation='logistic', max_iter = 100)\n",
    "clf.out_activation ='logistic'\n",
    "clf.fit(x_train, y_train)\n",
    "#Uses test predictors in trained model\n",
    "pred = clf.predict(x_test)\n",
    "#Accuracy test set\n",
    "accuracy_score(y_test,pred)"
   ]
  },
  {
   "cell_type": "code",
   "execution_count": 14,
   "metadata": {},
   "outputs": [
    {
     "data": {
      "text/plain": [
       "0.5384615384615384"
      ]
     },
     "execution_count": 14,
     "metadata": {},
     "output_type": "execute_result"
    }
   ],
   "source": [
    "#Imports\n",
    "from sklearn.ensemble import RandomForestClassifier\n",
    "#Random forest model \n",
    "clf = RandomForestClassifier(n_estimators = 10000, min_samples_leaf = 50)\n",
    "#Training data used to train the model\n",
    "clf.fit(x_train, y_train)\n",
    "#Predicts targets from model\n",
    "pred = clf.predict(x_test)\n",
    "#Accuracy test set\n",
    "accuracy_score(y_test,pred)"
   ]
  },
  {
   "cell_type": "code",
   "execution_count": 15,
   "metadata": {},
   "outputs": [
    {
     "data": {
      "text/plain": [
       "0.5384615384615384"
      ]
     },
     "execution_count": 15,
     "metadata": {},
     "output_type": "execute_result"
    }
   ],
   "source": [
    "#Random forest model \n",
    "clf = RandomForestClassifier(n_estimators = 10000, min_samples_leaf = 5)\n",
    "#Training data used to train the model\n",
    "clf.fit(x_train, y_train)\n",
    "#Predicts targets from model\n",
    "clf.predict(x_test)\n",
    "#Accuracy test set\n",
    "accuracy_score(y_test,pred)"
   ]
  },
  {
   "cell_type": "code",
   "execution_count": null,
   "metadata": {},
   "outputs": [],
   "source": []
  },
  {
   "cell_type": "code",
   "execution_count": null,
   "metadata": {},
   "outputs": [],
   "source": []
  }
 ],
 "metadata": {
  "kernelspec": {
   "display_name": "Python 3",
   "language": "python",
   "name": "python3"
  },
  "language_info": {
   "codemirror_mode": {
    "name": "ipython",
    "version": 3
   },
   "file_extension": ".py",
   "mimetype": "text/x-python",
   "name": "python",
   "nbconvert_exporter": "python",
   "pygments_lexer": "ipython3",
   "version": "3.8.3"
  }
 },
 "nbformat": 4,
 "nbformat_minor": 4
}
